{
 "cells": [
  {
   "cell_type": "code",
   "execution_count": 2,
   "metadata": {},
   "outputs": [],
   "source": [
    "import numpy as np\n",
    "import matplotlib.pyplot as plt\n",
    "import pandas as pd\n",
    "from scipy.stats import norm\n",
    "plt.style.use('seaborn')\n",
    "\n",
    "import investpy"
   ]
  },
  {
   "cell_type": "code",
   "execution_count": 684,
   "metadata": {},
   "outputs": [],
   "source": [
    "class Portfolio:\n",
    "\n",
    "    def __init__(self, riskFreeRate, expecReturn, covMatrix, VarStdConv = True, names = []):\n",
    "        \n",
    "        self.riskFreeRate = riskFreeRate\n",
    "        self.expecReturn = np.matrix(expecReturn).T\n",
    "        self.covMatrix = np.matrix(covMatrix)\n",
    "        self.ones = np.matrix(np.ones(len(expecReturn))).T\n",
    "        self.abcd()\n",
    "        self.variance = VarStdConv\n",
    "        self.assetNames = names\n",
    "\n",
    "    \n",
    "\n",
    "    def abcd(self):\n",
    "\n",
    "        a = np.matmul(self.expecReturn.T,np.matmul(np.linalg.inv(self.covMatrix),self.ones))\n",
    "        b = np.matmul(self.expecReturn.T,np.matmul(np.linalg.inv(self.covMatrix),self.expecReturn))\n",
    "        c = np.matmul(self.ones.T,np.matmul(np.linalg.inv(self.covMatrix),self.ones))\n",
    "        d = b*c - a*a\n",
    "\n",
    "        self.v_abcd = a,b,c,d\n",
    "\n",
    "\n",
    "    def efficFront(self,mu):\n",
    "\n",
    "        a,b,c,d = self.v_abcd\n",
    "\n",
    "        sigma2 = (c/d)*mu*mu - ((2*a)/d)*mu + (b/d)\n",
    "\n",
    "        return sigma2[0,0]\n",
    "\n",
    "    def efficientFrontier(self, variance = True, vMu = np.arange(0,0.5,0.01)):\n",
    "        \"\"\"Compute the Efficient Frontier\n",
    "\n",
    "        Parameters\n",
    "        ----------\n",
    "        variance: bool, optional\n",
    "            Indicate if the x-axis is Variance or Standard Deviation (default is True)\n",
    "        \n",
    "        vMu: array, optional\n",
    "            Array of returns, y-axis (default is from 0 to 0.5)\n",
    "\n",
    "        Returns\n",
    "        ----------\n",
    "        dict\n",
    "            A list of lists [Variance or Std, Expected Return]\n",
    "\n",
    "        \"\"\"\n",
    "        if self.variance:\n",
    "\n",
    "            self.frontier = [list(map(self.efficFront,vMu)),vMu]\n",
    "\n",
    "        else:\n",
    "            temp = [list(map(self.efficFront,vMu)),vMu]\n",
    "            temp[0] = np.sqrt(temp[0])\n",
    "            self.frontier = temp\n",
    "\n",
    "        return self.frontier\n",
    "\n",
    "    def minVar(self, variance = True):\n",
    "        \"\"\"Compute the Minimun Variance Portfolio\n",
    "\n",
    "        Parameters\n",
    "        ----------\n",
    "        none\n",
    "\n",
    "        Returns\n",
    "        ----------\n",
    "        float\n",
    "            Expected Return\n",
    "\n",
    "        float\n",
    "            Variance or Standard Deviation\n",
    "\n",
    "        list\n",
    "            Portfolio Weights\n",
    "        \"\"\"\n",
    "        a,b,c,d = self.v_abcd\n",
    "\n",
    "        mu = a/c\n",
    "        \n",
    "        if self.variance:\n",
    "            s = 1/c\n",
    "        else:\n",
    "            s = 1/(np.sqrt(c))\n",
    "\n",
    "        w = (np.matmul(np.linalg.inv(self.covMatrix),self.ones))/c\n",
    "        w = w.tolist()\n",
    "        w = [val for sublist in w for val in sublist]\n",
    "\n",
    "        self.minVarPort = [s[0,0], mu[0,0], w]\n",
    "\n",
    "        return self.minVarPort\n",
    "\n",
    "    def tangent(self):\n",
    "        \"\"\"Compute the Tangent Portfolio\n",
    "\n",
    "        Parameters\n",
    "        ----------\n",
    "        none\n",
    "\n",
    "        Returns\n",
    "        ----------\n",
    "        float\n",
    "            Expected Return\n",
    "\n",
    "        float\n",
    "            Variance or Standard Deviation\n",
    "\n",
    "        list\n",
    "            Portfolio Weights\n",
    "        \"\"\"\n",
    "\n",
    "        if hasattr(self,'tanPort'):\n",
    "            return self.tanPort\n",
    "        \n",
    "        else:\n",
    "\n",
    "            a,b,c,d = self.v_abcd\n",
    "\n",
    "            mu = (a*self.riskFreeRate-b)/(c*self.riskFreeRate - a)\n",
    "            \n",
    "            if self.variance:\n",
    "                s = self.efficFront(mu)\n",
    "            else:\n",
    "                s = np.sqrt(self.efficFront(mu))\n",
    "\n",
    "            w = (np.matmul(np.linalg.inv(self.covMatrix),self.ones*self.riskFreeRate)) / \\\n",
    "                    np.matmul(self.ones.T,(np.matmul(np.linalg.inv(self.covMatrix),self.ones*self.riskFreeRate)))\n",
    "\n",
    "            w = w.tolist()\n",
    "            w = [val for sublist in w for val in sublist]\n",
    "\n",
    "            self.tanPort = [s, mu[0,0], w]\n",
    "\n",
    "            return self.tanPort\n",
    "\n",
    "    def optimal(self, riskAver): \n",
    "        \"\"\"Compute the Optimal Portfolio\n",
    "\n",
    "        Parameters\n",
    "        ----------\n",
    "        float\n",
    "            Risk Aversion\n",
    "\n",
    "        Returns\n",
    "        ----------\n",
    "        float\n",
    "            Expected Return\n",
    "\n",
    "        float\n",
    "            Variance or Standard Deviation\n",
    "\n",
    "        list\n",
    "            Portfolio Weights\n",
    "        \"\"\"\n",
    "\n",
    "        if not hasattr(self,'tanPort'):\n",
    "            self.tangent()\n",
    "\n",
    "        if self.variance:\n",
    "            sp = (self.tanPort[1] - self.riskFreeRate)/np.sqrt(self.tanPort[0])\n",
    "            s = ((1/riskAver)*sp)**2\n",
    "            y = (1/riskAver)*(sp/np.sqrt(self.tanPort[0]))\n",
    "            mu = self.riskFreeRate + (1/riskAver)*(sp*sp)\n",
    "\n",
    "        else:\n",
    "            sp = (self.tanPort[1] - self.riskFreeRate)/self.tanPort[0]\n",
    "            s = (1/riskAver)*sp\n",
    "            y = (1/riskAver)*(sp/self.tanPort[0])\n",
    "            mu = self.riskFreeRate + (1/riskAver)*(sp*sp)\n",
    "\n",
    "        w = [i * y for i in self.tanPort[2]]\n",
    "        w.append(1-y)\n",
    "\n",
    "        self.optPort = [s, mu, w]\n",
    "\n",
    "        return self.optPort\n",
    "\n",
    "    def kelly(self):\n",
    "        \"\"\"Compute the Kelly Criterion Portfolio\n",
    "\n",
    "        Parameters\n",
    "        ----------\n",
    "        none\n",
    "\n",
    "        Returns\n",
    "        ----------\n",
    "        float\n",
    "            Expected Return\n",
    "\n",
    "        float\n",
    "            Variance or Standard Deviation\n",
    "\n",
    "        list\n",
    "            Portfolio Weights\n",
    "        \"\"\"\n",
    "\n",
    "        w = (1+self.riskFreeRate)*np.matmul(np.linalg.inv(self.covMatrix),(self.expecReturn-self.riskFreeRate))\n",
    "        \n",
    "        \n",
    "        mu = np.matmul(w.T,self.expecReturn) + (self.riskFreeRate*(1-(sum(w))))\n",
    "        \n",
    "        s = np.matmul(w.T,np.matmul(self.covMatrix,w))\n",
    "\n",
    "\n",
    "        if not self.variance:\n",
    "            s = np.sqrt(s)\n",
    "        \n",
    "\n",
    "        w = w.tolist()\n",
    "        w = [val for sublist in w for val in sublist]\n",
    "\n",
    "        w.append(1-(sum(w)))\n",
    "\n",
    "        self.kellyPort= [s[0,0], mu[0,0], w]\n",
    "\n",
    "        return self.kellyPort\n",
    "\n",
    "    def CAL(self, mult = 2):\n",
    "\n",
    "        if not hasattr(self,'tanPort'):\n",
    "            self.tangent()\n",
    "\n",
    "        if self.variance:\n",
    "            sp = (self.tanPort[1] - self.riskFreeRate)/np.sqrt(self.tanPort[0])\n",
    "\n",
    "        else:\n",
    "            sp = (self.tanPort[1] - self.riskFreeRate)/self.tanPort[0]\n",
    "\n",
    "        rr = np.arange(0,self.tanPort[1]*mult,0.01)\n",
    "\n",
    "        self.cal = rr, [sp*i+self.riskFreeRate for i in rr]\n",
    "\n",
    "        return self.cal\n",
    "\n",
    "    def util(self, riskAv, mult = 2):\n",
    "\n",
    "        if not hasattr(self,'optPort'):\n",
    "            self.optimal()\n",
    "\n",
    "        if not self.variance:\n",
    "            s = self.optPort[0]**2\n",
    "            u = self.optPort[1] - 0.5 * riskAv * s\n",
    "            rng = np.arange(u,u+mult*riskAv*s,0.01)\n",
    "            self.utilCurve = [np.sqrt((2/riskAv)*(r - u)) for r in rng], rng\n",
    "\n",
    "        else:\n",
    "            s = self.optPort[0]\n",
    "            u = self.optPort[1] - 0.5 * riskAv * s\n",
    "            rng = np.arange(u,u+mult*riskAv*s,0.01)\n",
    "            rng = np.arange(u,0.5,0.01)\n",
    "            self.utilCurve = [((2/riskAv)*(r - u)) for r in rng], rng\n",
    "\n",
    "\n",
    "        \n",
    "\n",
    "        return self.utilCurve\n",
    "\n",
    "\n",
    "class RiskMetrics:\n",
    "\n",
    "    def __init__(self, ret, risk, notional = 1, variance = True):\n",
    "        self.ret = ret\n",
    "        self.variance = variance\n",
    "        self.notional = notional\n",
    "        if variance:\n",
    "            self.risk = np.sqrt(risk)\n",
    "        else:\n",
    "            self.risk = risk\n",
    "\n",
    "    def valueAtRisk(self, alpha, period=1):\n",
    "\n",
    "        years = period/252\n",
    "        self.var = (norm.ppf(alpha)*self.risk*np.sqrt(years) + self.ret*years) * self.notional\n",
    "\n",
    "        return self.var\n",
    "\n",
    "    def cValueAtRisk(self, alpha, period=1):\n",
    "\n",
    "        years = period/252\n",
    "        self.cvar = (self.ret*years - ((self.risk*np.sqrt(years))/alpha)* norm.pdf(norm.ppf(alpha)))\\\n",
    "            * self.notional\n",
    "\n",
    "        return self.cvar\n",
    "\n",
    "class Market:\n",
    "\n",
    "    def __init__(self,assets, period, country='brazil'):\n",
    "        self.assets = assets\n",
    "        self.period = period\n",
    "        self.country = country\n",
    "    \n",
    "    def getPrices(self):\n",
    "\n",
    "        if hasattr(self,'prices'):\n",
    "            return self.prices\n",
    "\n",
    "        else:\n",
    "\n",
    "            dfPrice = pd.DataFrame()\n",
    "            dfMCap = []\n",
    "\n",
    "            for asset in self.assets:\n",
    "                try:\n",
    "                    p = pd.Series(investpy.get_stock_historical_data(stock=asset,\n",
    "                            country=self.country,\n",
    "                            from_date= self.period[0],\n",
    "                            to_date= self.period[1])['Close'],name=asset)\n",
    "                \n",
    "                    dfPrice = pd.concat([dfPrice,p], axis = 1)\n",
    "\n",
    "                    c = investpy.get_stock_information(stock=asset,\n",
    "                            country=self.country)['Market Cap']\n",
    "                    \n",
    "                    dfMCap.append(c.values[0])\n",
    "                except:\n",
    "                    pass\n",
    "                    \n",
    "            dfPrice.dropna(how='any', inplace=True)\n",
    "            \n",
    "\n",
    "            self.prices = dfPrice\n",
    "            self.mktCap = dfMCap\n",
    "\n",
    "    def getReturns(self):\n",
    "\n",
    "        if not hasattr(self,'prices'):\n",
    "            self.getPrices()\n",
    "\n",
    "        if not hasattr(self,'returns'):\n",
    "            self.returns = dfReturns = self.prices.pct_change(1)[1:]            \n",
    "\n",
    "\n",
    "    def getMetrics(self):\n",
    "\n",
    "        self.vMean = self.returns.mean() * 252\n",
    "        self.mCov = self.returns.cov() * 252\n",
    "\n",
    "\n",
    "class BlackLitterman:\n",
    "\n",
    "    def __init__(self,riskAv, covMatrix, mktCap, riskFree, shrink, mktViews, retViews, errorViews):\n",
    "        self.riskAv = riskAv\n",
    "        self.cov = np.matrix(covMatrix)\n",
    "        self.mktCap = mktCap\n",
    "        self.w = mktCap/sum(mktCap)\n",
    "        self.r = riskFree\n",
    "        self.t = shrink\n",
    "        self.P = np.matrix(mktViews)\n",
    "        self.Q = np.matrix(retViews).T\n",
    "        self.omega = np.matrix(errorViews)\n",
    "\n",
    "    def getReturns(self):\n",
    "\n",
    "        self.returns = np.matrix((self.riskAv * np.matmul(self.cov, self.w) + self.r)).T\n",
    "\n",
    "    def posterior(self):\n",
    "\n",
    "        ret = np.matmul(np.linalg.inv(np.linalg.inv(self.t*self.cov) + \\\n",
    "            np.matmul(self.P.T, np.matmul(np.linalg.inv(self.omega),self.P))),\\\n",
    "            np.matmul(np.linalg.inv(self.t*self.cov),self.returns) + \\\n",
    "            np.matmul(self.P.T, np.matmul(np.linalg.inv(self.omega),self.Q)))\n",
    "        \n",
    "        cov = np.linalg.inv(np.linalg.inv(self.t*self.cov) + \\\n",
    "            np.matmul(self.P.T, np.matmul(np.linalg.inv(self.omega),self.P)))\n",
    "        \n",
    "        self.postReturn = self.returns = [item for sublist in ret.tolist() for item in sublist]\n",
    "\n",
    "        self.postCov = cov + self.cov\n",
    "    \n",
    "\n",
    "        \n"
   ]
  },
  {
   "cell_type": "code",
   "execution_count": 685,
   "metadata": {},
   "outputs": [],
   "source": [
    "r = 0.05\n",
    "exp = [0.08,0.13, 0.18, 0.25, 0.30]\n",
    "cov = [[0.12, 0.06, -0.01, 0.03, 0.05],[0.06, 0.2, -0.01, 0.02, 0.04],[-0.01,-0.01, 0.3, 0.05, -0.01],\n",
    "        [0.03,0.02,0.05,0.40,0.06],[0.05,0.04,-0.01,0.06,0.5]]\n",
    "riskAv = 2.85\n",
    "P1 = Portfolio(r, exp, cov, VarStdConv = False, names=['Asset 1','Asset 2','Asset 3','Asset 4','Asset 5','Risk Free'])\n"
   ]
  },
  {
   "cell_type": "code",
   "execution_count": 686,
   "metadata": {},
   "outputs": [],
   "source": [
    "a = P1.efficientFrontier(variance = False)\n",
    "b = P1.minVar()\n",
    "c = P1.tangent()\n",
    "d = P1.optimal(riskAv)\n",
    "cal = P1.CAL(mult = 3)\n",
    "k = P1.kelly()\n",
    "u = P1.util(riskAv, mult=3)"
   ]
  },
  {
   "cell_type": "code",
   "execution_count": 687,
   "metadata": {},
   "outputs": [
    {
     "data": {
      "image/png": "[encoded data removed]",
      "text/plain": [
       "<Figure size 576x396 with 1 Axes>"
      ]
     },
     "metadata": {},
     "output_type": "display_data"
    }
   ],
   "source": [
    "fig, ax = plt.subplots()\n",
    "\n",
    "ax.plot(a[0],a[1], label=\"Efficient Frontier\")\n",
    "ax.plot(cal[0],cal[1], label=\"Capital Allocation Line\") # CAL\n",
    "ax.plot(u[0],u[1], label=\"Utilty\") # Util\n",
    "ax.plot(0,r, 'o', color='b', label=\"Risk Free\") # rf\n",
    "ax.plot(b[0],b[1], 'o', color='r', label=\"Minimum Variance\") # minVar\n",
    "ax.plot(c[0],c[1], 'o', color='gold', label=\"Tangent\") # tangent\n",
    "ax.plot(d[0],d[1], 'o', color='g', label=\"Optimal\") # optimal\n",
    "ax.plot(k[0],k[1], 'o', color='black', label=\"Kelly\") # optimal\n",
    "\n",
    "\n",
    "ax.legend(frameon=True, shadow=True, facecolor=\"ghostwhite\")\n",
    "ax.set_title(\"Modern Portfolio Theory - Portfolios\", size=20)\n",
    "ax.set_xlabel(\"Risk\", size=14)\n",
    "ax.set_ylabel(\"Return\", size=14)\n",
    "leg = ax.get_legend_handles_labels()\n",
    "plt.show()\n",
    "fig.savefig('MPT1.png')"
   ]
  },
  {
   "cell_type": "code",
   "execution_count": 730,
   "metadata": {},
   "outputs": [
    {
     "name": "stdout",
     "output_type": "stream",
     "text": [
      "\\begin{tabular}{lrrrrrr}\n",
      "\\toprule\n",
      "{} &  Asset 1 &  Asset 2 &  Asset 3 &  Asset 4 &  Asset 5 &  Risk Free \\\\\n",
      "\\midrule\n",
      "Minimum Variance &   42.41\\% &   19.28\\% &   22.92\\% &    8.50\\% &    6.89\\% &      0.00\\% \\\\\n",
      "Tangent          &   42.41\\% &   19.28\\% &   22.92\\% &    8.50\\% &    6.89\\% &      0.00\\% \\\\\n",
      "Optimal          &   20.73\\% &    9.42\\% &   11.20\\% &    4.15\\% &    3.37\\% &     51.13\\% \\\\\n",
      "Kelly            &  -18.06\\% &   36.00\\% &   41.05\\% &   39.80\\% &   47.47\\% &    -46.26\\% \\\\\n",
      "\\bottomrule\n",
      "\\end{tabular}\n",
      "\n"
     ]
    }
   ],
   "source": [
    "table0 = pd.DataFrame([b[2],c[2],d[2],k[2]],index=leg[-1][4:],\n",
    "            columns=P1.assetNames)\\\n",
    "                .fillna(0)\n",
    "\n",
    "print(table0.to_latex(longtable=False, float_format=\"{:0.2%}\".format))"
   ]
  },
  {
   "cell_type": "code",
   "execution_count": 333,
   "metadata": {},
   "outputs": [
    {
     "name": "stdout",
     "output_type": "stream",
     "text": [
      "VaR: $ -4,334.54\n",
      "CVaR: $ -5,450.00\n"
     ]
    }
   ],
   "source": [
    "risk = RiskMetrics(d[1],d[0], notional = 100000)\n",
    "var = risk.valueAtRisk(0.05,1)\n",
    "cvar = risk.cValueAtRisk(0.05,1)\n",
    "print('VaR: $ {:,.2f}'.format(var))\n",
    "print('CVaR: $ {:,.2f}'.format(cvar))"
   ]
  },
  {
   "cell_type": "code",
   "execution_count": 334,
   "metadata": {},
   "outputs": [
    {
     "data": {
      "text/plain": [
       "[0.17957436586779668,\n",
       " 0.14190381569894073,\n",
       " [0.2072983077320377,\n",
       "  0.09421322271067778,\n",
       "  0.11204192854593897,\n",
       "  0.04153030048883762,\n",
       "  0.033664971068424594,\n",
       "  0.5112512694540834]]"
      ]
     },
     "execution_count": 334,
     "metadata": {},
     "output_type": "execute_result"
    }
   ],
   "source": [
    "d"
   ]
  },
  {
   "cell_type": "code",
   "execution_count": 414,
   "metadata": {},
   "outputs": [],
   "source": [
    "assets = ['ITUB4', 'PETR4', 'B3SA3', 'RENT3', 'WEGE3', 'TAEE11', \\\n",
    "        'VALE3', 'BPAC11', 'LCAM3', 'EQTL3']\n",
    "\n",
    "period = ['20/07/2017','20/07/2022']\n",
    "\n",
    "M1 = Market(assets,period)"
   ]
  },
  {
   "cell_type": "code",
   "execution_count": 416,
   "metadata": {},
   "outputs": [
    {
     "data": {
      "text/plain": [
       "[214440000000.0,\n",
       " 466370000000.0,\n",
       " 66620000000.00001,\n",
       " 56160000000.0,\n",
       " 117660000000.0,\n",
       " 13940000000.0,\n",
       " 320240000000.0,\n",
       " 118090000000.0,\n",
       " 12250000000.0,\n",
       " 27290000000.0]"
      ]
     },
     "execution_count": 416,
     "metadata": {},
     "output_type": "execute_result"
    }
   ],
   "source": [
    "M1.mktCap"
   ]
  },
  {
   "cell_type": "code",
   "execution_count": 415,
   "metadata": {},
   "outputs": [],
   "source": [
    "M1.getPrices()"
   ]
  },
  {
   "cell_type": "code",
   "execution_count": 417,
   "metadata": {},
   "outputs": [],
   "source": [
    "M1.getReturns()"
   ]
  },
  {
   "cell_type": "code",
   "execution_count": 418,
   "metadata": {},
   "outputs": [],
   "source": [
    "M1.getMetrics()"
   ]
  },
  {
   "cell_type": "code",
   "execution_count": 722,
   "metadata": {},
   "outputs": [
    {
     "name": "stdout",
     "output_type": "stream",
     "text": [
      "\\begin{tabular}{lr}\n",
      "\\toprule\n",
      "{} &      0 \\\\\n",
      "\\midrule\n",
      "ITUB4  & 12.20\\% \\\\\n",
      "PETR4  & 29.03\\% \\\\\n",
      "B3SA3  & 20.71\\% \\\\\n",
      "RENT3  & 35.45\\% \\\\\n",
      "WEGE3  & 34.64\\% \\\\\n",
      "TAEE11 & 17.39\\% \\\\\n",
      "VALE3  & 33.93\\% \\\\\n",
      "BPAC11 & 51.41\\% \\\\\n",
      "LCAM3  & 40.96\\% \\\\\n",
      "EQTL3  & 19.87\\% \\\\\n",
      "\\bottomrule\n",
      "\\end{tabular}\n",
      "\n"
     ]
    }
   ],
   "source": [
    "print(M1.vMean.T.to_latex(longtable=False, float_format=\"{:0.2%}\".format))"
   ]
  },
  {
   "cell_type": "code",
   "execution_count": 720,
   "metadata": {},
   "outputs": [
    {
     "name": "stdout",
     "output_type": "stream",
     "text": [
      "\\begin{tabular}{lrrrrrrrrrr}\n",
      "\\toprule\n",
      "{} &  ITUB4 &  PETR4 &  B3SA3 &  RENT3 &  WEGE3 &  TAEE11 &  VALE3 &  BPAC11 &  LCAM3 &  EQTL3 \\\\\n",
      "\\midrule\n",
      "ITUB4  & 10.67\\% &  9.06\\% &  7.35\\% &  7.54\\% &  4.33\\% &   2.94\\% &  4.76\\% &   8.36\\% &  6.35\\% &  4.70\\% \\\\\n",
      "PETR4  &  9.06\\% & 23.45\\% &  9.39\\% & 10.36\\% &  6.55\\% &   3.59\\% &  8.73\\% &  11.28\\% & 10.26\\% &  5.73\\% \\\\\n",
      "B3SA3  &  7.35\\% &  9.39\\% & 15.89\\% & 10.41\\% &  7.24\\% &   3.76\\% &  5.28\\% &  11.95\\% &  9.17\\% &  6.31\\% \\\\\n",
      "RENT3  &  7.54\\% & 10.36\\% & 10.41\\% & 21.68\\% &  7.53\\% &   3.95\\% &  5.65\\% &  12.41\\% & 16.78\\% &  6.69\\% \\\\\n",
      "WEGE3  &  4.33\\% &  6.55\\% &  7.24\\% &  7.53\\% & 14.53\\% &   2.65\\% &  4.02\\% &   7.16\\% &  7.54\\% &  4.37\\% \\\\\n",
      "TAEE11 &  2.94\\% &  3.59\\% &  3.76\\% &  3.95\\% &  2.65\\% &   5.04\\% &  1.90\\% &   4.00\\% &  4.01\\% &  2.91\\% \\\\\n",
      "VALE3  &  4.76\\% &  8.73\\% &  5.28\\% &  5.65\\% &  4.02\\% &   1.90\\% & 16.44\\% &   6.77\\% &  5.98\\% &  3.23\\% \\\\\n",
      "BPAC11 &  8.36\\% & 11.28\\% & 11.95\\% & 12.41\\% &  7.16\\% &   4.00\\% &  6.77\\% &  24.64\\% & 12.50\\% &  6.78\\% \\\\\n",
      "LCAM3  &  6.35\\% & 10.26\\% &  9.17\\% & 16.78\\% &  7.54\\% &   4.01\\% &  5.98\\% &  12.50\\% & 34.55\\% &  6.89\\% \\\\\n",
      "EQTL3  &  4.70\\% &  5.73\\% &  6.31\\% &  6.69\\% &  4.37\\% &   2.91\\% &  3.23\\% &   6.78\\% &  6.89\\% &  8.61\\% \\\\\n",
      "\\bottomrule\n",
      "\\end{tabular}\n",
      "\n"
     ]
    }
   ],
   "source": [
    "print(M1.mCov.to_latex(longtable=False, float_format=\"{:0.2%}\".format))"
   ]
  },
  {
   "cell_type": "code",
   "execution_count": 776,
   "metadata": {},
   "outputs": [],
   "source": [
    "r2 = 0.1325\n",
    "riskAv = 2.85\n",
    "names = np.append(M1.returns.columns.values, 'Risk Free')\n",
    "P2 = Portfolio(r2, M1.vMean, M1.mCov, VarStdConv = False, names=names)"
   ]
  },
  {
   "cell_type": "code",
   "execution_count": 777,
   "metadata": {},
   "outputs": [],
   "source": [
    "a2 = P2.efficientFrontier(vMu = np.arange(0,2,0.01), variance=False)\n",
    "b2 = P2.minVar()\n",
    "c2 = P2.tangent()\n",
    "d2 = P2.optimal(riskAv)\n",
    "cal2 = P2.CAL(mult = 1)\n",
    "u = P2.util(riskAv)\n",
    "k2 = P2.kelly()"
   ]
  },
  {
   "cell_type": "code",
   "execution_count": 778,
   "metadata": {},
   "outputs": [
    {
     "data": {
      "image/png": "[encoded data removed]",
      "text/plain": [
       "<Figure size 576x396 with 2 Axes>"
      ]
     },
     "metadata": {},
     "output_type": "display_data"
    }
   ],
   "source": [
    "fig, ax = plt.subplots()\n",
    "\n",
    "ax.plot(a2[0],a2[1], label=\"Efficient Frontier\")\n",
    "ax.plot(cal2[0],cal2[1], label=\"Capital Asset Line\") # CAL\n",
    "ax.plot(u[0],u[1], label=\"Utilty\") # Util\n",
    "ax.plot(0,r2, 'o', color='b', label=\"Risk Free\") # rf\n",
    "ax.plot(b2[0],b2[1], 'o', color='r', label=\"Minimum Variance\") # minVar\n",
    "ax.plot(c2[0],c2[1], 'o', color='gold', label=\"Tangent\") # tangent\n",
    "ax.plot(d2[0],d2[1], 'o', color='g', label=\"Optimal\") # optimal\n",
    "ax.plot(k2[0],k2[1], 'o', color='black', label=\"Kelly\") # optimal\n",
    "\n",
    "\n",
    "# location for the zoomed portion \n",
    "sub_axes = plt.axes([.6, .2, .25, .25]) \n",
    "\n",
    "# plot the zoomed portion\n",
    "sub_axes.plot(a2[0],a2[1], label=\"Efficient Frontier\")\n",
    "sub_axes.plot(cal2[0],cal2[1], label=\"Capital Allocation Line\") # CAL\n",
    "sub_axes.plot(u[0],u[1], label=\"Utilty\") # Util\n",
    "sub_axes.plot(0,r2, 'o', color='b', label=\"Risk Free\") # rf\n",
    "sub_axes.plot(b2[0],b2[1], 'o', color='r', label=\"Minimum Variance\") # minVar\n",
    "sub_axes.plot(c2[0],c2[1], 'o', color='gold', label=\"Tangent\") # tangent\n",
    "sub_axes.plot(d2[0],d2[1], 'o', color='g', label=\"Optimal\") # optimal\n",
    "sub_axes.set_xlim(0.3,0.5)\n",
    "sub_axes.set_ylim(0.4,0.75)\n",
    "\n",
    "ax.legend(frameon=True, shadow=True, facecolor=\"ghostwhite\")\n",
    "ax.set_title(\"Modern Portfolio Theory - Portfolios\", size=20)\n",
    "ax.set_xlabel(\"Risk\", size=14)\n",
    "ax.set_ylabel(\"Return\", size=14)\n",
    "leg = ax.get_legend_handles_labels()\n",
    "\n",
    "\n",
    "plt.show()\n",
    "fig.savefig('MPT2.png')"
   ]
  },
  {
   "cell_type": "code",
   "execution_count": 779,
   "metadata": {},
   "outputs": [
    {
     "name": "stdout",
     "output_type": "stream",
     "text": [
      "\\begin{tabular}{lrrrr}\n",
      "\\toprule\n",
      "{} &  Minimum Variance &  Tangent &  Optimal &    Kelly \\\\\n",
      "\\midrule\n",
      "ITUB4     &            14.77\\% &   14.77\\% &    6.44\\% & -238.16\\% \\\\\n",
      "PETR4     &            -5.31\\% &   -5.31\\% &   -2.31\\% &   18.31\\% \\\\\n",
      "B3SA3     &            -4.67\\% &   -4.67\\% &   -2.03\\% & -144.77\\% \\\\\n",
      "RENT3     &            -3.59\\% &   -3.59\\% &   -1.56\\% &   51.26\\% \\\\\n",
      "WEGE3     &            10.76\\% &   10.76\\% &    4.69\\% &  134.31\\% \\\\\n",
      "TAEE11    &            60.05\\% &   60.05\\% &   26.17\\% &    0.36\\% \\\\\n",
      "VALE3     &            13.44\\% &   13.44\\% &    5.86\\% &  104.39\\% \\\\\n",
      "BPAC11    &            -4.37\\% &   -4.37\\% &   -1.91\\% &  221.41\\% \\\\\n",
      "LCAM3     &            -1.02\\% &   -1.02\\% &   -0.45\\% &   20.55\\% \\\\\n",
      "EQTL3     &            19.93\\% &   19.93\\% &    8.69\\% &  -26.97\\% \\\\\n",
      "Risk Free &             0.00\\% &    0.00\\% &   56.41\\% &  -40.68\\% \\\\\n",
      "\\bottomrule\n",
      "\\end{tabular}\n",
      "\n"
     ]
    }
   ],
   "source": [
    "table = pd.DataFrame([b2[2],c2[2],d2[2],k2[2]], index=leg[-1][4:],\n",
    "            columns=P2.assetNames).T\\\n",
    "                .fillna(0)\n",
    "\n",
    "print(table.to_latex(longtable=False, float_format=\"{:0.2%}\".format))"
   ]
  },
  {
   "cell_type": "code",
   "execution_count": 759,
   "metadata": {},
   "outputs": [
    {
     "name": "stdout",
     "output_type": "stream",
     "text": [
      "VaR: $ -6,294.65\n",
      "CVaR: $ -7,952.29\n"
     ]
    }
   ],
   "source": [
    "risk2 = RiskMetrics(d2[1],d2[0], notional = 100000)\n",
    "var2 = risk2.valueAtRisk(0.05,1)\n",
    "cvar2 = risk2.cValueAtRisk(0.05,1)\n",
    "print('VaR: $ {:,.2f}'.format(var2))\n",
    "print('CVaR: $ {:,.2f}'.format(cvar2))"
   ]
  },
  {
   "cell_type": "code",
   "execution_count": 760,
   "metadata": {},
   "outputs": [],
   "source": [
    "mktRiskAv = 2.5\n",
    "shrink = 0.025\n",
    "mktViews = [[0,0,0,0,0,0,0,0,0,1], [0,-1,0,0,0,0,1,0,0,0], [-1,0,0,0,0,0,0,1,0,0]]\n",
    "retViews = [0.2,0.05, 0.08]\n",
    "errorViews = [[0.002,0,0],[0,0.004,0],[0,0,0.00225]]\n",
    "bl = BlackLitterman(riskAv=mktRiskAv, covMatrix = M1.mCov, mktCap= M1.mktCap, riskFree = r2, shrink = shrink,\\\n",
    "     mktViews = mktViews, retViews = retViews, errorViews = errorViews)"
   ]
  },
  {
   "cell_type": "code",
   "execution_count": 761,
   "metadata": {},
   "outputs": [
    {
     "name": "stdout",
     "output_type": "stream",
     "text": [
      "\\begin{tabular}{lrrrrrrrrrr}\n",
      "\\toprule\n",
      "{} &  0 &  1 &  2 &  3 &  4 &  5 &  6 &  7 &  8 &  9 \\\\\n",
      "\\midrule\n",
      "0 &  0 &  0 &  0 &  0 &  0 &  0 &  0 &  0 &  0 &  1 \\\\\n",
      "1 &  0 & -1 &  0 &  0 &  0 &  0 &  1 &  0 &  0 &  0 \\\\\n",
      "2 & -1 &  0 &  0 &  0 &  0 &  0 &  0 &  1 &  0 &  0 \\\\\n",
      "\\bottomrule\n",
      "\\end{tabular}\n",
      "\n"
     ]
    }
   ],
   "source": [
    "xx1 = pd.DataFrame(mktViews)\n",
    "\n",
    "print(xx1.to_latex(longtable=False))"
   ]
  },
  {
   "cell_type": "code",
   "execution_count": 762,
   "metadata": {},
   "outputs": [],
   "source": [
    "bl.getReturns()"
   ]
  },
  {
   "cell_type": "code",
   "execution_count": 763,
   "metadata": {},
   "outputs": [
    {
     "name": "stdout",
     "output_type": "stream",
     "text": [
      "\\begin{tabular}{lr}\n",
      "\\toprule\n",
      "{} &      0 \\\\\n",
      "\\midrule\n",
      "ITUB4  & 32.17\\% \\\\\n",
      "PETR4  & 47.43\\% \\\\\n",
      "B3SA3  & 34.29\\% \\\\\n",
      "RENT3  & 36.18\\% \\\\\n",
      "WEGE3  & 29.13\\% \\\\\n",
      "TAEE11 & 20.98\\% \\\\\n",
      "VALE3  & 35.34\\% \\\\\n",
      "BPAC11 & 39.54\\% \\\\\n",
      "LCAM3  & 35.63\\% \\\\\n",
      "EQTL3  & 25.96\\% \\\\\n",
      "\\bottomrule\n",
      "\\end{tabular}\n",
      "\n"
     ]
    }
   ],
   "source": [
    "priret = pd.DataFrame(bl.returns, index=assets)\n",
    "\n",
    "print(priret.to_latex(longtable=False, float_format=\"{:0.2%}\".format))"
   ]
  },
  {
   "cell_type": "code",
   "execution_count": 764,
   "metadata": {},
   "outputs": [
    {
     "data": {
      "text/plain": [
       "[0.2881527063704111,\n",
       " 0.39549020011832264,\n",
       " 0.30864835948718083,\n",
       " 0.32403261664043154,\n",
       " 0.26878005945632294,\n",
       " 0.19438446726614061,\n",
       " 0.3774508361224727,\n",
       " 0.36376292843563146,\n",
       " 0.32030175235637065,\n",
       " 0.22408560755092893]"
      ]
     },
     "execution_count": 764,
     "metadata": {},
     "output_type": "execute_result"
    }
   ],
   "source": [
    "bl.posterior()\n",
    "bl.postReturn"
   ]
  },
  {
   "cell_type": "code",
   "execution_count": 753,
   "metadata": {},
   "outputs": [
    {
     "ename": "ValueError",
     "evalue": "Shape of passed values is (100, 1), indices imply (10, 1)",
     "output_type": "error",
     "traceback": [
      "\u001b[1;31m---------------------------------------------------------------------------\u001b[0m",
      "\u001b[1;31mValueError\u001b[0m                                Traceback (most recent call last)",
      "\u001b[1;32m~\\AppData\\Roaming\\Python\\Python39\\site-packages\\pandas\\core\\internals\\managers.py\u001b[0m in \u001b[0;36mcreate_block_manager_from_blocks\u001b[1;34m(blocks, axes)\u001b[0m\n\u001b[0;32m   1679\u001b[0m \u001b[1;33m\u001b[0m\u001b[0m\n\u001b[1;32m-> 1680\u001b[1;33m         \u001b[0mmgr\u001b[0m \u001b[1;33m=\u001b[0m \u001b[0mBlockManager\u001b[0m\u001b[1;33m(\u001b[0m\u001b[0mblocks\u001b[0m\u001b[1;33m,\u001b[0m \u001b[0maxes\u001b[0m\u001b[1;33m)\u001b[0m\u001b[1;33m\u001b[0m\u001b[1;33m\u001b[0m\u001b[0m\n\u001b[0m\u001b[0;32m   1681\u001b[0m         \u001b[0mmgr\u001b[0m\u001b[1;33m.\u001b[0m\u001b[0m_consolidate_inplace\u001b[0m\u001b[1;33m(\u001b[0m\u001b[1;33m)\u001b[0m\u001b[1;33m\u001b[0m\u001b[1;33m\u001b[0m\u001b[0m\n",
      "\u001b[1;32m~\\AppData\\Roaming\\Python\\Python39\\site-packages\\pandas\\core\\internals\\managers.py\u001b[0m in \u001b[0;36m__init__\u001b[1;34m(self, blocks, axes, do_integrity_check)\u001b[0m\n\u001b[0;32m    142\u001b[0m         \u001b[1;32mif\u001b[0m \u001b[0mdo_integrity_check\u001b[0m\u001b[1;33m:\u001b[0m\u001b[1;33m\u001b[0m\u001b[1;33m\u001b[0m\u001b[0m\n\u001b[1;32m--> 143\u001b[1;33m             \u001b[0mself\u001b[0m\u001b[1;33m.\u001b[0m\u001b[0m_verify_integrity\u001b[0m\u001b[1;33m(\u001b[0m\u001b[1;33m)\u001b[0m\u001b[1;33m\u001b[0m\u001b[1;33m\u001b[0m\u001b[0m\n\u001b[0m\u001b[0;32m    144\u001b[0m \u001b[1;33m\u001b[0m\u001b[0m\n",
      "\u001b[1;32m~\\AppData\\Roaming\\Python\\Python39\\site-packages\\pandas\\core\\internals\\managers.py\u001b[0m in \u001b[0;36m_verify_integrity\u001b[1;34m(self)\u001b[0m\n\u001b[0;32m    322\u001b[0m             \u001b[1;32mif\u001b[0m \u001b[0mblock\u001b[0m\u001b[1;33m.\u001b[0m\u001b[0mshape\u001b[0m\u001b[1;33m[\u001b[0m\u001b[1;36m1\u001b[0m\u001b[1;33m:\u001b[0m\u001b[1;33m]\u001b[0m \u001b[1;33m!=\u001b[0m \u001b[0mmgr_shape\u001b[0m\u001b[1;33m[\u001b[0m\u001b[1;36m1\u001b[0m\u001b[1;33m:\u001b[0m\u001b[1;33m]\u001b[0m\u001b[1;33m:\u001b[0m\u001b[1;33m\u001b[0m\u001b[1;33m\u001b[0m\u001b[0m\n\u001b[1;32m--> 323\u001b[1;33m                 \u001b[1;32mraise\u001b[0m \u001b[0mconstruction_error\u001b[0m\u001b[1;33m(\u001b[0m\u001b[0mtot_items\u001b[0m\u001b[1;33m,\u001b[0m \u001b[0mblock\u001b[0m\u001b[1;33m.\u001b[0m\u001b[0mshape\u001b[0m\u001b[1;33m[\u001b[0m\u001b[1;36m1\u001b[0m\u001b[1;33m:\u001b[0m\u001b[1;33m]\u001b[0m\u001b[1;33m,\u001b[0m \u001b[0mself\u001b[0m\u001b[1;33m.\u001b[0m\u001b[0maxes\u001b[0m\u001b[1;33m)\u001b[0m\u001b[1;33m\u001b[0m\u001b[1;33m\u001b[0m\u001b[0m\n\u001b[0m\u001b[0;32m    324\u001b[0m         \u001b[1;32mif\u001b[0m \u001b[0mlen\u001b[0m\u001b[1;33m(\u001b[0m\u001b[0mself\u001b[0m\u001b[1;33m.\u001b[0m\u001b[0mitems\u001b[0m\u001b[1;33m)\u001b[0m \u001b[1;33m!=\u001b[0m \u001b[0mtot_items\u001b[0m\u001b[1;33m:\u001b[0m\u001b[1;33m\u001b[0m\u001b[1;33m\u001b[0m\u001b[0m\n",
      "\u001b[1;31mValueError\u001b[0m: Shape of passed values is (100, 1), indices imply (10, 1)",
      "\nDuring handling of the above exception, another exception occurred:\n",
      "\u001b[1;31mValueError\u001b[0m                                Traceback (most recent call last)",
      "\u001b[1;32m~\\AppData\\Local\\Temp/ipykernel_29768/3308904797.py\u001b[0m in \u001b[0;36m<module>\u001b[1;34m\u001b[0m\n\u001b[1;32m----> 1\u001b[1;33m \u001b[0mblret\u001b[0m \u001b[1;33m=\u001b[0m \u001b[0mpd\u001b[0m\u001b[1;33m.\u001b[0m\u001b[0mDataFrame\u001b[0m\u001b[1;33m(\u001b[0m\u001b[0mbl\u001b[0m\u001b[1;33m.\u001b[0m\u001b[0mpostReturn\u001b[0m\u001b[1;33m,\u001b[0m \u001b[0mindex\u001b[0m\u001b[1;33m=\u001b[0m\u001b[0massets\u001b[0m\u001b[1;33m)\u001b[0m\u001b[1;33m\u001b[0m\u001b[1;33m\u001b[0m\u001b[0m\n\u001b[0m\u001b[0;32m      2\u001b[0m \u001b[1;33m\u001b[0m\u001b[0m\n\u001b[0;32m      3\u001b[0m \u001b[0mprint\u001b[0m\u001b[1;33m(\u001b[0m\u001b[0mblret\u001b[0m\u001b[1;33m.\u001b[0m\u001b[0mto_latex\u001b[0m\u001b[1;33m(\u001b[0m\u001b[0mlongtable\u001b[0m\u001b[1;33m=\u001b[0m\u001b[1;32mFalse\u001b[0m\u001b[1;33m,\u001b[0m \u001b[0mfloat_format\u001b[0m\u001b[1;33m=\u001b[0m\u001b[1;34m\"{:0.2%}\"\u001b[0m\u001b[1;33m.\u001b[0m\u001b[0mformat\u001b[0m\u001b[1;33m)\u001b[0m\u001b[1;33m)\u001b[0m\u001b[1;33m\u001b[0m\u001b[1;33m\u001b[0m\u001b[0m\n",
      "\u001b[1;32m~\\AppData\\Roaming\\Python\\Python39\\site-packages\\pandas\\core\\frame.py\u001b[0m in \u001b[0;36m__init__\u001b[1;34m(self, data, index, columns, dtype, copy)\u001b[0m\n\u001b[0;32m    582\u001b[0m                     \u001b[0mmgr\u001b[0m \u001b[1;33m=\u001b[0m \u001b[0marrays_to_mgr\u001b[0m\u001b[1;33m(\u001b[0m\u001b[0marrays\u001b[0m\u001b[1;33m,\u001b[0m \u001b[0mcolumns\u001b[0m\u001b[1;33m,\u001b[0m \u001b[0mindex\u001b[0m\u001b[1;33m,\u001b[0m \u001b[0mcolumns\u001b[0m\u001b[1;33m,\u001b[0m \u001b[0mdtype\u001b[0m\u001b[1;33m=\u001b[0m\u001b[0mdtype\u001b[0m\u001b[1;33m)\u001b[0m\u001b[1;33m\u001b[0m\u001b[1;33m\u001b[0m\u001b[0m\n\u001b[0;32m    583\u001b[0m                 \u001b[1;32melse\u001b[0m\u001b[1;33m:\u001b[0m\u001b[1;33m\u001b[0m\u001b[1;33m\u001b[0m\u001b[0m\n\u001b[1;32m--> 584\u001b[1;33m                     \u001b[0mmgr\u001b[0m \u001b[1;33m=\u001b[0m \u001b[0minit_ndarray\u001b[0m\u001b[1;33m(\u001b[0m\u001b[0mdata\u001b[0m\u001b[1;33m,\u001b[0m \u001b[0mindex\u001b[0m\u001b[1;33m,\u001b[0m \u001b[0mcolumns\u001b[0m\u001b[1;33m,\u001b[0m \u001b[0mdtype\u001b[0m\u001b[1;33m=\u001b[0m\u001b[0mdtype\u001b[0m\u001b[1;33m,\u001b[0m \u001b[0mcopy\u001b[0m\u001b[1;33m=\u001b[0m\u001b[0mcopy\u001b[0m\u001b[1;33m)\u001b[0m\u001b[1;33m\u001b[0m\u001b[1;33m\u001b[0m\u001b[0m\n\u001b[0m\u001b[0;32m    585\u001b[0m             \u001b[1;32melse\u001b[0m\u001b[1;33m:\u001b[0m\u001b[1;33m\u001b[0m\u001b[1;33m\u001b[0m\u001b[0m\n\u001b[0;32m    586\u001b[0m                 \u001b[0mmgr\u001b[0m \u001b[1;33m=\u001b[0m \u001b[0minit_dict\u001b[0m\u001b[1;33m(\u001b[0m\u001b[1;33m{\u001b[0m\u001b[1;33m}\u001b[0m\u001b[1;33m,\u001b[0m \u001b[0mindex\u001b[0m\u001b[1;33m,\u001b[0m \u001b[0mcolumns\u001b[0m\u001b[1;33m,\u001b[0m \u001b[0mdtype\u001b[0m\u001b[1;33m=\u001b[0m\u001b[0mdtype\u001b[0m\u001b[1;33m)\u001b[0m\u001b[1;33m\u001b[0m\u001b[1;33m\u001b[0m\u001b[0m\n",
      "\u001b[1;32m~\\AppData\\Roaming\\Python\\Python39\\site-packages\\pandas\\core\\internals\\construction.py\u001b[0m in \u001b[0;36minit_ndarray\u001b[1;34m(values, index, columns, dtype, copy)\u001b[0m\n\u001b[0;32m    236\u001b[0m         \u001b[0mblock_values\u001b[0m \u001b[1;33m=\u001b[0m \u001b[1;33m[\u001b[0m\u001b[0mvalues\u001b[0m\u001b[1;33m]\u001b[0m\u001b[1;33m\u001b[0m\u001b[1;33m\u001b[0m\u001b[0m\n\u001b[0;32m    237\u001b[0m \u001b[1;33m\u001b[0m\u001b[0m\n\u001b[1;32m--> 238\u001b[1;33m     \u001b[1;32mreturn\u001b[0m \u001b[0mcreate_block_manager_from_blocks\u001b[0m\u001b[1;33m(\u001b[0m\u001b[0mblock_values\u001b[0m\u001b[1;33m,\u001b[0m \u001b[1;33m[\u001b[0m\u001b[0mcolumns\u001b[0m\u001b[1;33m,\u001b[0m \u001b[0mindex\u001b[0m\u001b[1;33m]\u001b[0m\u001b[1;33m)\u001b[0m\u001b[1;33m\u001b[0m\u001b[1;33m\u001b[0m\u001b[0m\n\u001b[0m\u001b[0;32m    239\u001b[0m \u001b[1;33m\u001b[0m\u001b[0m\n\u001b[0;32m    240\u001b[0m \u001b[1;33m\u001b[0m\u001b[0m\n",
      "\u001b[1;32m~\\AppData\\Roaming\\Python\\Python39\\site-packages\\pandas\\core\\internals\\managers.py\u001b[0m in \u001b[0;36mcreate_block_manager_from_blocks\u001b[1;34m(blocks, axes)\u001b[0m\n\u001b[0;32m   1685\u001b[0m         \u001b[0mblocks\u001b[0m \u001b[1;33m=\u001b[0m \u001b[1;33m[\u001b[0m\u001b[0mgetattr\u001b[0m\u001b[1;33m(\u001b[0m\u001b[0mb\u001b[0m\u001b[1;33m,\u001b[0m \u001b[1;34m\"values\"\u001b[0m\u001b[1;33m,\u001b[0m \u001b[0mb\u001b[0m\u001b[1;33m)\u001b[0m \u001b[1;32mfor\u001b[0m \u001b[0mb\u001b[0m \u001b[1;32min\u001b[0m \u001b[0mblocks\u001b[0m\u001b[1;33m]\u001b[0m\u001b[1;33m\u001b[0m\u001b[1;33m\u001b[0m\u001b[0m\n\u001b[0;32m   1686\u001b[0m         \u001b[0mtot_items\u001b[0m \u001b[1;33m=\u001b[0m \u001b[0msum\u001b[0m\u001b[1;33m(\u001b[0m\u001b[0mb\u001b[0m\u001b[1;33m.\u001b[0m\u001b[0mshape\u001b[0m\u001b[1;33m[\u001b[0m\u001b[1;36m0\u001b[0m\u001b[1;33m]\u001b[0m \u001b[1;32mfor\u001b[0m \u001b[0mb\u001b[0m \u001b[1;32min\u001b[0m \u001b[0mblocks\u001b[0m\u001b[1;33m)\u001b[0m\u001b[1;33m\u001b[0m\u001b[1;33m\u001b[0m\u001b[0m\n\u001b[1;32m-> 1687\u001b[1;33m         \u001b[1;32mraise\u001b[0m \u001b[0mconstruction_error\u001b[0m\u001b[1;33m(\u001b[0m\u001b[0mtot_items\u001b[0m\u001b[1;33m,\u001b[0m \u001b[0mblocks\u001b[0m\u001b[1;33m[\u001b[0m\u001b[1;36m0\u001b[0m\u001b[1;33m]\u001b[0m\u001b[1;33m.\u001b[0m\u001b[0mshape\u001b[0m\u001b[1;33m[\u001b[0m\u001b[1;36m1\u001b[0m\u001b[1;33m:\u001b[0m\u001b[1;33m]\u001b[0m\u001b[1;33m,\u001b[0m \u001b[0maxes\u001b[0m\u001b[1;33m,\u001b[0m \u001b[0me\u001b[0m\u001b[1;33m)\u001b[0m\u001b[1;33m\u001b[0m\u001b[1;33m\u001b[0m\u001b[0m\n\u001b[0m\u001b[0;32m   1688\u001b[0m \u001b[1;33m\u001b[0m\u001b[0m\n\u001b[0;32m   1689\u001b[0m \u001b[1;33m\u001b[0m\u001b[0m\n",
      "\u001b[1;31mValueError\u001b[0m: Shape of passed values is (100, 1), indices imply (10, 1)"
     ]
    }
   ],
   "source": [
    "blret = pd.DataFrame(bl.postReturn, index=assets)\n",
    "\n",
    "print(blret.to_latex(longtable=False, float_format=\"{:0.2%}\".format))"
   ]
  },
  {
   "cell_type": "code",
   "execution_count": 750,
   "metadata": {},
   "outputs": [
    {
     "name": "stdout",
     "output_type": "stream",
     "text": [
      "\\begin{tabular}{lrrrrrrrrrr}\n",
      "\\toprule\n",
      "{} &     ITUB4 &     PETR4 &     B3SA3 &     RENT3 &     WEGE3 &    TAEE11 &     VALE3 &    BPAC11 &     LCAM3 &     EQTL3 \\\\\n",
      "\\midrule\n",
      "ITUB4  &  0.108907 &  0.092188 &  0.074895 &  0.076790 &  0.044076 &  0.029956 &  0.048781 &  0.085578 &  0.064706 &  0.047555 \\\\\n",
      "PETR4  &  0.092188 &  0.238603 &  0.095399 &  0.105208 &  0.066516 &  0.036423 &  0.089920 &  0.114485 &  0.104231 &  0.057870 \\\\\n",
      "B3SA3  &  0.074895 &  0.095399 &  0.162043 &  0.105856 &  0.073663 &  0.038233 &  0.053952 &  0.121251 &  0.093114 &  0.063796 \\\\\n",
      "RENT3  &  0.076790 &  0.105208 &  0.105856 &  0.221310 &  0.076603 &  0.040169 &  0.057708 &  0.125874 &  0.171009 &  0.067594 \\\\\n",
      "WEGE3  &  0.044076 &  0.066516 &  0.073663 &  0.076603 &  0.148563 &  0.026971 &  0.041025 &  0.072621 &  0.076699 &  0.044206 \\\\\n",
      "TAEE11 &  0.029956 &  0.036423 &  0.038233 &  0.040169 &  0.026971 &  0.051548 &  0.019407 &  0.040574 &  0.040735 &  0.029484 \\\\\n",
      "VALE3  &  0.048781 &  0.089920 &  0.053952 &  0.057708 &  0.041025 &  0.019407 &  0.167922 &  0.068981 &  0.061049 &  0.032764 \\\\\n",
      "BPAC11 &  0.085578 &  0.114485 &  0.121251 &  0.125874 &  0.072621 &  0.040574 &  0.068981 &  0.249655 &  0.126644 &  0.068399 \\\\\n",
      "LCAM3  &  0.064706 &  0.104231 &  0.093114 &  0.171009 &  0.076699 &  0.040735 &  0.061049 &  0.126644 &  0.353096 &  0.069698 \\\\\n",
      "EQTL3  &  0.047555 &  0.057870 &  0.063796 &  0.067594 &  0.044206 &  0.029484 &  0.032764 &  0.068399 &  0.069698 &  0.087165 \\\\\n",
      "\\bottomrule\n",
      "\\end{tabular}\n",
      "\n"
     ]
    }
   ],
   "source": [
    "print(pd.DataFrame(bl.postCov, index=assets, columns=assets).to_latex(longtable=False))"
   ]
  },
  {
   "cell_type": "code",
   "execution_count": 678,
   "metadata": {},
   "outputs": [
    {
     "data": {
      "text/html": [
       "<div>\n",
       "<style scoped>\n",
       "    .dataframe tbody tr th:only-of-type {\n",
       "        vertical-align: middle;\n",
       "    }\n",
       "\n",
       "    .dataframe tbody tr th {\n",
       "        vertical-align: top;\n",
       "    }\n",
       "\n",
       "    .dataframe thead th {\n",
       "        text-align: right;\n",
       "    }\n",
       "</style>\n",
       "<table border=\"1\" class=\"dataframe\">\n",
       "  <thead>\n",
       "    <tr style=\"text-align: right;\">\n",
       "      <th></th>\n",
       "      <th>0</th>\n",
       "      <th>1</th>\n",
       "      <th>2</th>\n",
       "      <th>3</th>\n",
       "      <th>4</th>\n",
       "      <th>5</th>\n",
       "      <th>6</th>\n",
       "      <th>7</th>\n",
       "      <th>8</th>\n",
       "      <th>9</th>\n",
       "    </tr>\n",
       "  </thead>\n",
       "  <tbody>\n",
       "    <tr>\n",
       "      <th>0</th>\n",
       "      <td>0.108907</td>\n",
       "      <td>0.092188</td>\n",
       "      <td>0.074895</td>\n",
       "      <td>0.076790</td>\n",
       "      <td>0.044076</td>\n",
       "      <td>0.029956</td>\n",
       "      <td>0.048781</td>\n",
       "      <td>0.085578</td>\n",
       "      <td>0.064706</td>\n",
       "      <td>0.047555</td>\n",
       "    </tr>\n",
       "    <tr>\n",
       "      <th>1</th>\n",
       "      <td>0.092188</td>\n",
       "      <td>0.238603</td>\n",
       "      <td>0.095399</td>\n",
       "      <td>0.105208</td>\n",
       "      <td>0.066516</td>\n",
       "      <td>0.036423</td>\n",
       "      <td>0.089920</td>\n",
       "      <td>0.114485</td>\n",
       "      <td>0.104231</td>\n",
       "      <td>0.057870</td>\n",
       "    </tr>\n",
       "    <tr>\n",
       "      <th>2</th>\n",
       "      <td>0.074895</td>\n",
       "      <td>0.095399</td>\n",
       "      <td>0.162043</td>\n",
       "      <td>0.105856</td>\n",
       "      <td>0.073663</td>\n",
       "      <td>0.038233</td>\n",
       "      <td>0.053952</td>\n",
       "      <td>0.121251</td>\n",
       "      <td>0.093114</td>\n",
       "      <td>0.063796</td>\n",
       "    </tr>\n",
       "    <tr>\n",
       "      <th>3</th>\n",
       "      <td>0.076790</td>\n",
       "      <td>0.105208</td>\n",
       "      <td>0.105856</td>\n",
       "      <td>0.221310</td>\n",
       "      <td>0.076603</td>\n",
       "      <td>0.040169</td>\n",
       "      <td>0.057708</td>\n",
       "      <td>0.125874</td>\n",
       "      <td>0.171009</td>\n",
       "      <td>0.067594</td>\n",
       "    </tr>\n",
       "    <tr>\n",
       "      <th>4</th>\n",
       "      <td>0.044076</td>\n",
       "      <td>0.066516</td>\n",
       "      <td>0.073663</td>\n",
       "      <td>0.076603</td>\n",
       "      <td>0.148563</td>\n",
       "      <td>0.026971</td>\n",
       "      <td>0.041025</td>\n",
       "      <td>0.072621</td>\n",
       "      <td>0.076699</td>\n",
       "      <td>0.044206</td>\n",
       "    </tr>\n",
       "    <tr>\n",
       "      <th>5</th>\n",
       "      <td>0.029956</td>\n",
       "      <td>0.036423</td>\n",
       "      <td>0.038233</td>\n",
       "      <td>0.040169</td>\n",
       "      <td>0.026971</td>\n",
       "      <td>0.051548</td>\n",
       "      <td>0.019407</td>\n",
       "      <td>0.040574</td>\n",
       "      <td>0.040735</td>\n",
       "      <td>0.029484</td>\n",
       "    </tr>\n",
       "    <tr>\n",
       "      <th>6</th>\n",
       "      <td>0.048781</td>\n",
       "      <td>0.089920</td>\n",
       "      <td>0.053952</td>\n",
       "      <td>0.057708</td>\n",
       "      <td>0.041025</td>\n",
       "      <td>0.019407</td>\n",
       "      <td>0.167922</td>\n",
       "      <td>0.068981</td>\n",
       "      <td>0.061049</td>\n",
       "      <td>0.032764</td>\n",
       "    </tr>\n",
       "    <tr>\n",
       "      <th>7</th>\n",
       "      <td>0.085578</td>\n",
       "      <td>0.114485</td>\n",
       "      <td>0.121251</td>\n",
       "      <td>0.125874</td>\n",
       "      <td>0.072621</td>\n",
       "      <td>0.040574</td>\n",
       "      <td>0.068981</td>\n",
       "      <td>0.249655</td>\n",
       "      <td>0.126644</td>\n",
       "      <td>0.068399</td>\n",
       "    </tr>\n",
       "    <tr>\n",
       "      <th>8</th>\n",
       "      <td>0.064706</td>\n",
       "      <td>0.104231</td>\n",
       "      <td>0.093114</td>\n",
       "      <td>0.171009</td>\n",
       "      <td>0.076699</td>\n",
       "      <td>0.040735</td>\n",
       "      <td>0.061049</td>\n",
       "      <td>0.126644</td>\n",
       "      <td>0.353096</td>\n",
       "      <td>0.069698</td>\n",
       "    </tr>\n",
       "    <tr>\n",
       "      <th>9</th>\n",
       "      <td>0.047555</td>\n",
       "      <td>0.057870</td>\n",
       "      <td>0.063796</td>\n",
       "      <td>0.067594</td>\n",
       "      <td>0.044206</td>\n",
       "      <td>0.029484</td>\n",
       "      <td>0.032764</td>\n",
       "      <td>0.068399</td>\n",
       "      <td>0.069698</td>\n",
       "      <td>0.087165</td>\n",
       "    </tr>\n",
       "  </tbody>\n",
       "</table>\n",
       "</div>"
      ],
      "text/plain": [
       "          0         1         2         3         4         5         6  \\\n",
       "0  0.108907  0.092188  0.074895  0.076790  0.044076  0.029956  0.048781   \n",
       "1  0.092188  0.238603  0.095399  0.105208  0.066516  0.036423  0.089920   \n",
       "2  0.074895  0.095399  0.162043  0.105856  0.073663  0.038233  0.053952   \n",
       "3  0.076790  0.105208  0.105856  0.221310  0.076603  0.040169  0.057708   \n",
       "4  0.044076  0.066516  0.073663  0.076603  0.148563  0.026971  0.041025   \n",
       "5  0.029956  0.036423  0.038233  0.040169  0.026971  0.051548  0.019407   \n",
       "6  0.048781  0.089920  0.053952  0.057708  0.041025  0.019407  0.167922   \n",
       "7  0.085578  0.114485  0.121251  0.125874  0.072621  0.040574  0.068981   \n",
       "8  0.064706  0.104231  0.093114  0.171009  0.076699  0.040735  0.061049   \n",
       "9  0.047555  0.057870  0.063796  0.067594  0.044206  0.029484  0.032764   \n",
       "\n",
       "          7         8         9  \n",
       "0  0.085578  0.064706  0.047555  \n",
       "1  0.114485  0.104231  0.057870  \n",
       "2  0.121251  0.093114  0.063796  \n",
       "3  0.125874  0.171009  0.067594  \n",
       "4  0.072621  0.076699  0.044206  \n",
       "5  0.040574  0.040735  0.029484  \n",
       "6  0.068981  0.061049  0.032764  \n",
       "7  0.249655  0.126644  0.068399  \n",
       "8  0.126644  0.353096  0.069698  \n",
       "9  0.068399  0.069698  0.087165  "
      ]
     },
     "execution_count": 678,
     "metadata": {},
     "output_type": "execute_result"
    }
   ],
   "source": [
    "pd.DataFrame(bl.postCov)"
   ]
  },
  {
   "cell_type": "code",
   "execution_count": 767,
   "metadata": {},
   "outputs": [],
   "source": [
    "r2 = 0.1325\n",
    "riskAv = 2.85\n",
    "names = np.append(M1.returns.columns.values, 'Risk Free')\n",
    "P3 = Portfolio(r2, bl.postReturn, bl.postCov, VarStdConv = False, names=names)"
   ]
  },
  {
   "cell_type": "code",
   "execution_count": 768,
   "metadata": {},
   "outputs": [],
   "source": [
    "a3 = P3.efficientFrontier(vMu = np.arange(0,0.3,0.01), variance=False)\n",
    "b3 = P3.minVar()\n",
    "c3 = P3.tangent()\n",
    "d3 = P3.optimal(riskAv)\n",
    "cal3 = P3.CAL(mult = 3)\n",
    "u3 = P3.util(riskAv, mult=5)\n",
    "k3 = P3.kelly()"
   ]
  },
  {
   "cell_type": "code",
   "execution_count": 769,
   "metadata": {},
   "outputs": [
    {
     "data": {
      "image/png": "[encoded data removed]",
      "text/plain": [
       "<Figure size 576x396 with 1 Axes>"
      ]
     },
     "metadata": {},
     "output_type": "display_data"
    }
   ],
   "source": [
    "fig, ax = plt.subplots()\n",
    "\n",
    "ax.plot(a3[0],a3[1], label=\"Efficient Frontier\")\n",
    "ax.plot(cal3[0],cal3[1], label=\"Capital Allocation Line\") # CAL\n",
    "ax.plot(u3[0],u3[1], label=\"Utilty\") # Util\n",
    "ax.plot(0,r2, 'o', color='b', label=\"Risk Free\") # rf\n",
    "ax.plot(b3[0],b3[1], 'o', color='r', label=\"Minimum Variance\") # minVar\n",
    "ax.plot(c3[0],c3[1], 'o', color='gold', label=\"Tangent\") # tangent\n",
    "ax.plot(d3[0],d3[1], 'o', color='g', label=\"Optimal\") # optimal\n",
    "ax.plot(k3[0],k3[1], 'o', color='black', label=\"Kelly\") # Kelly\n",
    "\n",
    "\n",
    "ax.legend(frameon=True, shadow=True, facecolor=\"ghostwhite\")\n",
    "ax.set_title(\"Modern Portfolio Theory - Portfolios\", size=20)\n",
    "ax.set_xlabel(\"Risk\", size=14)\n",
    "ax.set_ylabel(\"Return\", size=14)\n",
    "leg = ax.get_legend_handles_labels()\n",
    "\n",
    "\n",
    "plt.show()\n",
    "\n",
    "fig.savefig('MPT3.png')"
   ]
  },
  {
   "cell_type": "code",
   "execution_count": 770,
   "metadata": {},
   "outputs": [
    {
     "name": "stdout",
     "output_type": "stream",
     "text": [
      "VaR: $ -5,036.32\n",
      "CVaR: $ -6,346.75\n"
     ]
    }
   ],
   "source": [
    "risk3 = RiskMetrics(d3[1],d3[0], notional = 100000)\n",
    "var3 = risk3.valueAtRisk(0.05,1)\n",
    "cvar3 = risk3.cValueAtRisk(0.05,1)\n",
    "print('VaR: $ {:,.2f}'.format(var3))\n",
    "print('CVaR: $ {:,.2f}'.format(cvar3))"
   ]
  },
  {
   "cell_type": "code",
   "execution_count": 771,
   "metadata": {},
   "outputs": [
    {
     "name": "stdout",
     "output_type": "stream",
     "text": [
      "\\begin{tabular}{lrrrr}\n",
      "\\toprule\n",
      "{} &  Minimum Variance &  Tangent &  Optimal &    Kelly \\\\\n",
      "\\midrule\n",
      "ITUB4     &            14.73\\% &   14.73\\% &   11.15\\% &   35.88\\% \\\\\n",
      "PETR4     &            -5.31\\% &   -5.31\\% &   -4.02\\% &   44.21\\% \\\\\n",
      "B3SA3     &            -4.64\\% &   -4.64\\% &   -3.51\\% &   13.02\\% \\\\\n",
      "RENT3     &            -3.57\\% &   -3.57\\% &   -2.70\\% &   10.98\\% \\\\\n",
      "WEGE3     &            10.70\\% &   10.70\\% &    8.10\\% &   23.00\\% \\\\\n",
      "TAEE11    &            59.70\\% &   59.70\\% &   45.20\\% &    2.72\\% \\\\\n",
      "VALE3     &            13.39\\% &   13.39\\% &   10.14\\% &  109.55\\% \\\\\n",
      "BPAC11    &            -4.39\\% &   -4.39\\% &   -3.32\\% &   29.12\\% \\\\\n",
      "LCAM3     &            -1.02\\% &   -1.02\\% &   -0.77\\% &    2.39\\% \\\\\n",
      "EQTL3     &            20.40\\% &   20.40\\% &   15.44\\% &  -26.51\\% \\\\\n",
      "Risk Free &             0.00\\% &    0.00\\% &   24.29\\% & -144.37\\% \\\\\n",
      "\\bottomrule\n",
      "\\end{tabular}\n",
      "\n"
     ]
    }
   ],
   "source": [
    "table3 = pd.DataFrame([b3[2],c3[2],d3[2],k3[2]], index=leg[-1][4:],\n",
    "            columns=P2.assetNames).T\\\n",
    "                .fillna(0)\n",
    "\n",
    "print(table3.to_latex(longtable=False, float_format=\"{:0.2%}\".format))"
   ]
  },
  {
   "cell_type": "code",
   "execution_count": null,
   "metadata": {},
   "outputs": [],
   "source": []
  }
 ],
 "metadata": {
  "kernelspec": {
   "display_name": "Python 3.9.5 64-bit",
   "language": "python",
   "name": "python3"
  },
  "language_info": {
   "codemirror_mode": {
    "name": "ipython",
    "version": 3
   },
   "file_extension": ".py",
   "mimetype": "text/x-python",
   "name": "python",
   "nbconvert_exporter": "python",
   "pygments_lexer": "ipython3",
   "version": "3.9.5"
  },
  "orig_nbformat": 4,
  "vscode": {
   "interpreter": {
    "hash": "4fbfea1dd5a17f80dff8df3ba641602c59e31ce1a55b82aea18e6894ff3c71a7"
   }
  }
 },
 "nbformat": 4,
 "nbformat_minor": 2
}
